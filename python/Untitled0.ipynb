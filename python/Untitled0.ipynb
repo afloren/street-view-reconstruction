{
 "metadata": {
  "name": "",
  "signature": "sha256:ab355f1160b3ce1919ffadc43d5d6105ee67ae88cac179e2ec14a1b314589e40"
 },
 "nbformat": 3,
 "nbformat_minor": 0,
 "worksheets": [
  {
   "cells": [
    {
     "cell_type": "code",
     "collapsed": false,
     "input": [
      "%matplotlib qt\n",
      "import matplotlib\n",
      "import matplotlib.pyplot as plt\n",
      "import pickle\n",
      "import requests\n",
      "import io\n",
      "import PIL\n",
      "import numpy"
     ],
     "language": "python",
     "metadata": {},
     "outputs": [],
     "prompt_number": 79
    },
    {
     "cell_type": "code",
     "collapsed": false,
     "input": [
      "params = pickle.load(file('test-params.pkl'))\n",
      "pano = params['pano']\n",
      "key = params['key']\n",
      "origin_heading = 108.2679\n",
      "origin_pitch = -2.0644"
     ],
     "language": "python",
     "metadata": {},
     "outputs": [],
     "prompt_number": 80
    },
    {
     "cell_type": "code",
     "collapsed": false,
     "input": [
      "class Panorama:\n",
      "    \n",
      "    def __init__(self, street_view, pano, origin_heading=0.0, origin_pitch=0.0):\n",
      "        self.street_view = street_view\n",
      "        self.pano = pano\n",
      "        self.origin_heading = origin_heading\n",
      "        self.origin_pitch = origin_pitch\n",
      "        \n",
      "    def get_image(self, size=(512,512), heading=0.0, pitch=0.0, fov=90.0):\n",
      "        params = dict(key=self.street_view.key,\n",
      "                      pano=self.pano,\n",
      "                      size='{}x{}'.format(*size),\n",
      "                      heading=heading,\n",
      "                      pitch=pitch,\n",
      "                      fov=fov)\n",
      "        r = requests.get(self.street_view.api_url, params=params)\n",
      "        i = PIL.Image.open(io.BytesIO(r.content))\n",
      "        return numpy.array(i)\n",
      "    \n",
      "    def get_panorama_image(self, num_images=26):\n",
      "        fov = 360.0/num_images\n",
      "        headings = self.origin_heading + numpy.arange(num_images)*fov\n",
      "        hs = numpy.radians(headings) - numpy.radians(self.origin_heading)\n",
      "        pitches = -self.origin_pitch * numpy.cos(hs)\n",
      "        images = [self.get_image(heading=h,pitch=p,fov=fov) \n",
      "                  for h,p in zip(headings,pitches)]\n",
      "        return numpy.concatenate(images,axis=1)\n",
      "        \n",
      "\n",
      "class StreetView:\n",
      "    \n",
      "    def __init__(self, key):\n",
      "        self.key = key\n",
      "        self.api_url = 'http://maps.googleapis.com/maps/api/streetview'\n",
      "        \n",
      "    def get_panorama(self, pano):\n",
      "        return Panorama(self, pano)\n",
      "        "
     ],
     "language": "python",
     "metadata": {},
     "outputs": [],
     "prompt_number": 81
    },
    {
     "cell_type": "code",
     "collapsed": false,
     "input": [
      "sv = StreetView(key)\n",
      "p1 = Panorama(sv,pano,origin_heading,origin_pitch)"
     ],
     "language": "python",
     "metadata": {},
     "outputs": [],
     "prompt_number": 82
    },
    {
     "cell_type": "code",
     "collapsed": false,
     "input": [
      "i = p1.get_panorama_image()"
     ],
     "language": "python",
     "metadata": {},
     "outputs": [],
     "prompt_number": 83
    },
    {
     "cell_type": "code",
     "collapsed": false,
     "input": [
      "plt.imshow(i)"
     ],
     "language": "python",
     "metadata": {},
     "outputs": [
      {
       "metadata": {},
       "output_type": "pyout",
       "prompt_number": 84,
       "text": [
        "<matplotlib.image.AxesImage at 0x7f4b0408f610>"
       ]
      }
     ],
     "prompt_number": 84
    },
    {
     "cell_type": "code",
     "collapsed": false,
     "input": [],
     "language": "python",
     "metadata": {},
     "outputs": []
    }
   ],
   "metadata": {}
  }
 ]
}